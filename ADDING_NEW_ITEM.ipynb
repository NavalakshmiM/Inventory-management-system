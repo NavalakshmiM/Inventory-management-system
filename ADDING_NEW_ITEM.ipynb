{
  "nbformat": 4,
  "nbformat_minor": 0,
  "metadata": {
    "colab": {
      "name": "ADDING_NEW_ITEM.ipynb",
      "provenance": [],
      "collapsed_sections": [],
      "authorship_tag": "ABX9TyOsK+0Sb1wTWFC7Gvr8Jm5K",
      "include_colab_link": true
    },
    "kernelspec": {
      "name": "python3",
      "display_name": "Python 3"
    },
    "language_info": {
      "name": "python"
    }
  },
  "cells": [
    {
      "cell_type": "markdown",
      "metadata": {
        "id": "view-in-github",
        "colab_type": "text"
      },
      "source": [
        "<a href=\"https://colab.research.google.com/github/NavalakshmiM/Inventory-management-system/blob/main/ADDING_NEW_ITEM.ipynb\" target=\"_parent\"><img src=\"https://colab.research.google.com/assets/colab-badge.svg\" alt=\"Open In Colab\"/></a>"
      ]
    },
    {
      "cell_type": "markdown",
      "source": [
        "Read Data from JSON"
      ],
      "metadata": {
        "id": "l613v5cbTkuE"
      }
    },
    {
      "cell_type": "code",
      "source": [
        "import json\n",
        "fd = open(\"record.json\",'r')\n",
        "r = fd.read()\n",
        "fd.close()\n",
        "\n",
        "record = json.loads(r)\n",
        "record"
      ],
      "metadata": {
        "colab": {
          "base_uri": "https://localhost:8080/"
        },
        "id": "YJZORYEaTt6W",
        "outputId": "d5c5a2ab-50b1-40fb-95e3-eb49eaf21211"
      },
      "execution_count": 42,
      "outputs": [
        {
          "output_type": "execute_result",
          "data": {
            "text/plain": [
              "{'1200': {'category': 'Antibiotic',\n",
              "  'item': 'Amoxicillin',\n",
              "  'price': 80,\n",
              "  'quantity': 30,\n",
              "  'rating': 9},\n",
              " '1201': {'category': 'Antibiotic',\n",
              "  'item': 'Azithromycin',\n",
              "  'price': 80,\n",
              "  'quantity': 100,\n",
              "  'rating': 8},\n",
              " '1202': {'category': 'Antipyretic',\n",
              "  'item': 'Paracetamol',\n",
              "  'price': 40,\n",
              "  'quantity': 10,\n",
              "  'rating': 7},\n",
              " '1203': {'category': 'Dilator',\n",
              "  'item': 'Albuterol',\n",
              "  'price': 10,\n",
              "  'quantity': 100,\n",
              "  'rating': 8},\n",
              " '1204': {'category': 'AntiBActerial',\n",
              "  'item': 'Amoxicillin(s)',\n",
              "  'price': 10,\n",
              "  'quantity': 100,\n",
              "  'rating': 7},\n",
              " '1205': {'category': 'AntiBActerial',\n",
              "  'item': 'Amoxicillin(m)',\n",
              "  'price': 20,\n",
              "  'quantity': 100,\n",
              "  'rating': 8},\n",
              " '1206': {'category': 'AntiBActerial',\n",
              "  'item': 'Amocixillin(l)',\n",
              "  'price': 40,\n",
              "  'quantity': 50,\n",
              "  'rating': 6},\n",
              " '1207': {'category': 'AntiBacterial',\n",
              "  'item': 'Cefdinir(s)',\n",
              "  'price': 10,\n",
              "  'quantity': 300,\n",
              "  'rating': 5},\n",
              " '1208': {'category': 'AntiBacterial',\n",
              "  'item': 'Cefdinir(m)',\n",
              "  'price': 40,\n",
              "  'quantity': 400,\n",
              "  'rating': 4},\n",
              " '1209': {'category': 'AntiBacterial',\n",
              "  'item': 'Cephalexin',\n",
              "  'price': 10,\n",
              "  'quantity': 500,\n",
              "  'rating': 10},\n",
              " '1210': {'category': 'Steroid',\n",
              "  'item': 'Fluticasone',\n",
              "  'price': 1,\n",
              "  'quantity': 1000,\n",
              "  'rating': 9},\n",
              " '1211': {'category': 'Steroid',\n",
              "  'item': 'Predisolone',\n",
              "  'price': 1,\n",
              "  'quantity': 1000,\n",
              "  'rating': 8},\n",
              " '1212': {'category': 'AntiInflammatory',\n",
              "  'item': 'Ibuprofen',\n",
              "  'price': 10,\n",
              "  'quantity': 200,\n",
              "  'rating': 7},\n",
              " '1213': {'category': 'AntiAllergent',\n",
              "  'item': 'Singulair',\n",
              "  'price': 100,\n",
              "  'quantity': 100,\n",
              "  'rating': 2},\n",
              " '1214': {'category': 'Antboitic',\n",
              "  'item': 'Trimethoprim',\n",
              "  'price': 5,\n",
              "  'quantity': 200,\n",
              "  'rating': 3},\n",
              " '1215': {'category': 'PainKiller',\n",
              "  'item': 'Tylenol',\n",
              "  'price': 70,\n",
              "  'quantity': 80,\n",
              "  'rating': 4},\n",
              " '1216': {'category': 'Painkiller',\n",
              "  'item': 'Vicodin',\n",
              "  'price': 30,\n",
              "  'quantity': 80,\n",
              "  'rating': 5},\n",
              " '1217': {'category': 'AntiBacterial',\n",
              "  'item': 'Mupirocin',\n",
              "  'price': 100,\n",
              "  'quantity': 90,\n",
              "  'rating': 8},\n",
              " '1218': {'category': 'AntiFungal',\n",
              "  'item': 'Nystatin',\n",
              "  'price': 120,\n",
              "  'quantity': 40,\n",
              "  'rating': 9},\n",
              " '1219': {'category': 'Antihistamine',\n",
              "  'item': 'Dextromorphan(m)',\n",
              "  'price': 20,\n",
              "  'quantity': 100,\n",
              "  'rating': 8},\n",
              " '1220': {'category': 'Antihistamine',\n",
              "  'item': 'Dextromorphan(l)',\n",
              "  'price': 50,\n",
              "  'quantity': 300,\n",
              "  'rating': 10},\n",
              " '1221': {'category': 'Antihistamine',\n",
              "  'item': 'Phenilephrine',\n",
              "  'price': 10,\n",
              "  'quantity': 200,\n",
              "  'rating': 7}}"
            ]
          },
          "metadata": {},
          "execution_count": 42
        }
      ]
    },
    {
      "cell_type": "markdown",
      "source": [
        "Add new item into inventory"
      ],
      "metadata": {
        "id": "6S5gHYvCUNR5"
      }
    },
    {
      "cell_type": "code",
      "source": [
        "prod_id = str(input(\"Enter product id:\"))\n",
        "item = str(input(\"Enter item:\"))\n",
        "price = int(input(\"Enter price:\"))\n",
        "quantity = int(input(\"Enter quantity:\"))\n",
        "category = str(input(\"Enter category:\"))\n",
        "rating = int(input(\"Enter rating:\"))\n",
        "\n",
        "record[prod_id] = {'item': item, 'price': price, 'quantity': quantity, 'category': category, 'rating': rating}\n",
        "\n",
        "js = json.dumps(record)\n",
        "\n",
        "fd = open(\"record.json\",'w')\n",
        "fd.write(js)\n",
        "fd.close()"
      ],
      "metadata": {
        "colab": {
          "base_uri": "https://localhost:8080/"
        },
        "id": "rvcbXQRdUS8o",
        "outputId": "c3537a7d-8e41-4e7d-eac9-c039f753b4ba"
      },
      "execution_count": 21,
      "outputs": [
        {
          "name": "stdout",
          "output_type": "stream",
          "text": [
            "Enter product id:1221\n",
            "Enter item:Phenilephrine\n",
            "Enter price:10\n",
            "Enter quantity:200\n",
            "Enter category:Antihistamine\n",
            "Enter rating:7\n"
          ]
        }
      ]
    },
    {
      "cell_type": "code",
      "source": [
        "record"
      ],
      "metadata": {
        "colab": {
          "base_uri": "https://localhost:8080/"
        },
        "id": "bQyU3Jk6W0Cg",
        "outputId": "dddfabaf-0e85-49a0-f147-ce5fcca501a6"
      },
      "execution_count": 22,
      "outputs": [
        {
          "output_type": "execute_result",
          "data": {
            "text/plain": [
              "{'1200': {'category': 'Antibiotic',\n",
              "  'item': 'Amoxicillin',\n",
              "  'price': 80,\n",
              "  'quantity': 30,\n",
              "  'rating': 9},\n",
              " '1201': {'category': 'Antibiotic',\n",
              "  'item': 'Azithromycin',\n",
              "  'price': 80,\n",
              "  'quantity': 100,\n",
              "  'rating': 8},\n",
              " '1202': {'category': 'Antipyretic',\n",
              "  'item': 'Paracetamol',\n",
              "  'price': 40,\n",
              "  'quantity': 10,\n",
              "  'rating': 7},\n",
              " '1203': {'category': 'Dilator',\n",
              "  'item': 'Albuterol',\n",
              "  'price': 10,\n",
              "  'quantity': 100,\n",
              "  'rating': 8},\n",
              " '1204': {'category': 'AntiBActerial',\n",
              "  'item': 'Amoxicillin(s)',\n",
              "  'price': 10,\n",
              "  'quantity': 100,\n",
              "  'rating': 7},\n",
              " '1205': {'category': 'AntiBActerial',\n",
              "  'item': 'Amoxicillin(m)',\n",
              "  'price': 20,\n",
              "  'quantity': 100,\n",
              "  'rating': 8},\n",
              " '1206': {'category': 'AntiBActerial',\n",
              "  'item': 'Amocixillin(l)',\n",
              "  'price': 40,\n",
              "  'quantity': 50,\n",
              "  'rating': 6},\n",
              " '1207': {'category': 'AntiBacterial',\n",
              "  'item': 'Cefdinir(s)',\n",
              "  'price': 10,\n",
              "  'quantity': 300,\n",
              "  'rating': 5},\n",
              " '1208': {'category': 'AntiBacterial',\n",
              "  'item': 'Cefdinir(m)',\n",
              "  'price': 40,\n",
              "  'quantity': 400,\n",
              "  'rating': 4},\n",
              " '1209': {'category': 'AntiBacterial',\n",
              "  'item': 'Cephalexin',\n",
              "  'price': 10,\n",
              "  'quantity': 500,\n",
              "  'rating': 10},\n",
              " '1210': {'category': 'Steroid',\n",
              "  'item': 'Fluticasone',\n",
              "  'price': 1,\n",
              "  'quantity': 1000,\n",
              "  'rating': 9},\n",
              " '1211': {'category': 'Steroid',\n",
              "  'item': 'Predisolone',\n",
              "  'price': 1,\n",
              "  'quantity': 1000,\n",
              "  'rating': 8},\n",
              " '1212': {'category': 'AntiInflammatory',\n",
              "  'item': 'Ibuprofen',\n",
              "  'price': 10,\n",
              "  'quantity': 200,\n",
              "  'rating': 7},\n",
              " '1213': {'category': 'AntiAllergent',\n",
              "  'item': 'Singulair',\n",
              "  'price': 100,\n",
              "  'quantity': 100,\n",
              "  'rating': 2},\n",
              " '1214': {'category': 'Antboitic',\n",
              "  'item': 'Trimethoprim',\n",
              "  'price': 5,\n",
              "  'quantity': 200,\n",
              "  'rating': 3},\n",
              " '1215': {'category': 'PainKiller',\n",
              "  'item': 'Tylenol',\n",
              "  'price': 70,\n",
              "  'quantity': 80,\n",
              "  'rating': 4},\n",
              " '1216': {'category': 'Painkiller',\n",
              "  'item': 'Vicodin',\n",
              "  'price': 30,\n",
              "  'quantity': 80,\n",
              "  'rating': 5},\n",
              " '1217': {'category': 'AntiBacterial',\n",
              "  'item': 'Mupirocin',\n",
              "  'price': 100,\n",
              "  'quantity': 90,\n",
              "  'rating': 8},\n",
              " '1218': {'category': 'AntiFungal',\n",
              "  'item': 'Nystatin',\n",
              "  'price': 120,\n",
              "  'quantity': 40,\n",
              "  'rating': 9},\n",
              " '1219': {'category': 'Antihistamine',\n",
              "  'item': 'Dextromorphan(m)',\n",
              "  'price': 20,\n",
              "  'quantity': 100,\n",
              "  'rating': 8},\n",
              " '1220': {'category': 'Antihistamine',\n",
              "  'item': 'Dextromorphan(l)',\n",
              "  'price': 50,\n",
              "  'quantity': 300,\n",
              "  'rating': 10},\n",
              " '1221': {'category': 'Antihistamine',\n",
              "  'item': 'Phenilephrine',\n",
              "  'price': 10,\n",
              "  'quantity': 200,\n",
              "  'rating': 7}}"
            ]
          },
          "metadata": {},
          "execution_count": 22
        }
      ]
    }
  ]
}