{
  "nbformat": 4,
  "nbformat_minor": 0,
  "metadata": {
    "colab": {
      "name": "Purchasing_products.ipynb",
      "provenance": [],
      "authorship_tag": "ABX9TyObAYl0MXs90tcQNX5iZbw0",
      "include_colab_link": true
    },
    "kernelspec": {
      "name": "python3",
      "display_name": "Python 3"
    },
    "language_info": {
      "name": "python"
    }
  },
  "cells": [
    {
      "cell_type": "markdown",
      "metadata": {
        "id": "view-in-github",
        "colab_type": "text"
      },
      "source": [
        "<a href=\"https://colab.research.google.com/github/NavalakshmiM/Inventory-management-system/blob/main/Purchasing_products.ipynb\" target=\"_parent\"><img src=\"https://colab.research.google.com/assets/colab-badge.svg\" alt=\"Open In Colab\"/></a>"
      ]
    },
    {
      "cell_type": "code",
      "execution_count": null,
      "metadata": {
        "id": "ypZKmYWm-4lg"
      },
      "outputs": [],
      "source": [
        "import json\n",
        "\n",
        "fd = open(\"record.json\",'r')\n",
        "r = fd.read()\n",
        "fd.close()\n",
        "\n",
        "records = json.loads(r)\n",
        "records"
      ]
    },
    {
      "cell_type": "markdown",
      "source": [
        "# PURCHASE"
      ],
      "metadata": {
        "id": "6f9ELsdRfmQV"
      }
    },
    {
      "cell_type": "code",
      "source": [
        "ui_prod  = str(input(\"Enter the product_Id: \"))\n",
        "ui_quant = int(input(\"Enter the quantity: \"))\n",
        "\n",
        "\n",
        "print(\"Product: \", records[ui_prod]['item'])\n",
        "print(\"Price: \", records[ui_prod]['price'])\n",
        "print(\"Billing Amount: \", records[ui_prod]['price'] * ui_quant)\n",
        "\n",
        "records[ui_prod]['qn'] = records[ui_prod]['quantity'] - ui_quant"
      ],
      "metadata": {
        "colab": {
          "base_uri": "https://localhost:8080/"
        },
        "id": "fQ4qIphsfrVt",
        "outputId": "bc7038b9-7b6d-4b27-a41e-4ff92325b306"
      },
      "execution_count": 4,
      "outputs": [
        {
          "output_type": "stream",
          "name": "stdout",
          "text": [
            "Enter the product_Id: 1220\n",
            "Enter the quantity: 2\n",
            "Product:  Dextromorphan(l)\n",
            "Price:  50\n",
            "Billing Amount:  100\n"
          ]
        }
      ]
    },
    {
      "cell_type": "markdown",
      "source": [
        "# UPDATE INVENTORY AFTER PURCHASE\n"
      ],
      "metadata": {
        "id": "XDGFUCS1gB0l"
      }
    },
    {
      "cell_type": "code",
      "source": [
        "js = json.dumps(records)\n",
        "\n",
        "fd = open(\"record.json\",'w')\n",
        "fd.write(js)\n",
        "fd.close()"
      ],
      "metadata": {
        "id": "Lj77qQoNgGK7"
      },
      "execution_count": 6,
      "outputs": []
    }
  ]
}